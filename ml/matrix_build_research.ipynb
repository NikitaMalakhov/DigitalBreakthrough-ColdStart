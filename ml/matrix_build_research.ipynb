{
 "cells": [
  {
   "cell_type": "code",
   "execution_count": 1,
   "id": "c2f30fea-8d90-40b3-9822-36fe571f2cb9",
   "metadata": {},
   "outputs": [
    {
     "data": {
      "text/plain": [
       "0"
      ]
     },
     "execution_count": 1,
     "metadata": {},
     "output_type": "execute_result"
    }
   ],
   "source": [
    "import pandas as pd\n",
    "import numpy as np\n",
    "import gc\n",
    "import torch\n",
    "from random import sample\n",
    "\n",
    "gc.enable()\n",
    "gc.collect()"
   ]
  },
  {
   "cell_type": "code",
   "execution_count": 2,
   "id": "68a4055e-2dec-4a6d-8b84-3895a48f219b",
   "metadata": {},
   "outputs": [],
   "source": [
    "logs_0708 = pd.read_parquet('./data/logs_df_2024-07-08.parquet')"
   ]
  },
  {
   "cell_type": "code",
   "execution_count": 3,
   "id": "8312ca0a-2cc3-4c71-a136-f7394e2ee05c",
   "metadata": {},
   "outputs": [],
   "source": [
    "df_stats = pd.read_parquet('./data/video_stat.parquet')"
   ]
  },
  {
   "cell_type": "code",
   "execution_count": 4,
   "id": "60f2d053-f715-4172-942d-3c9af54295a5",
   "metadata": {},
   "outputs": [],
   "source": [
    "logs = pd.merge(logs_0708, df_stats[['video_id','v_duration']],on='video_id', how='left')"
   ]
  },
  {
   "cell_type": "code",
   "execution_count": 5,
   "id": "0d34655e-1c29-4259-9d75-44e999f5460c",
   "metadata": {},
   "outputs": [],
   "source": [
    "logs['is_long_watch'] = logs.apply(\n",
    "    lambda row: 1 if (\n",
    "        (row['v_duration'] > 300 and row['watchtime'] / row['v_duration'] > 0.25) or\n",
    "        (row['v_duration'] <= 300 and row['watchtime'] > 30) or\n",
    "        (row['v_duration'] <= 30 and (row['watchtime'] != 0 and row['v_duration'] != 0 and row['watchtime'] / row['v_duration'] > 0.75))\n",
    "    ) else -1,\n",
    "    axis=1\n",
    ")"
   ]
  },
  {
   "cell_type": "code",
   "execution_count": 6,
   "id": "0da9fa95-0c01-4f74-be00-5b91a3cf7218",
   "metadata": {},
   "outputs": [
    {
     "data": {
      "text/html": [
       "<div>\n",
       "<style scoped>\n",
       "    .dataframe tbody tr th:only-of-type {\n",
       "        vertical-align: middle;\n",
       "    }\n",
       "\n",
       "    .dataframe tbody tr th {\n",
       "        vertical-align: top;\n",
       "    }\n",
       "\n",
       "    .dataframe thead th {\n",
       "        text-align: right;\n",
       "    }\n",
       "</style>\n",
       "<table border=\"1\" class=\"dataframe\">\n",
       "  <thead>\n",
       "    <tr style=\"text-align: right;\">\n",
       "      <th></th>\n",
       "      <th>user_id</th>\n",
       "      <th>watchtime</th>\n",
       "    </tr>\n",
       "  </thead>\n",
       "  <tbody>\n",
       "    <tr>\n",
       "      <th>0</th>\n",
       "      <td>0000020c-f22d-428f-a780-14cb34612649</td>\n",
       "      <td>192</td>\n",
       "    </tr>\n",
       "    <tr>\n",
       "      <th>1</th>\n",
       "      <td>000002ca-30be-4bfd-8979-23d80fa5b924</td>\n",
       "      <td>31</td>\n",
       "    </tr>\n",
       "    <tr>\n",
       "      <th>2</th>\n",
       "      <td>000003e8-2dee-49be-8c41-9082ce7a3af3</td>\n",
       "      <td>817</td>\n",
       "    </tr>\n",
       "    <tr>\n",
       "      <th>3</th>\n",
       "      <td>0000062a-9401-4d9d-b2ca-4a54d18c5158</td>\n",
       "      <td>161</td>\n",
       "    </tr>\n",
       "    <tr>\n",
       "      <th>4</th>\n",
       "      <td>00000823-4e57-4699-925f-082efd9fc694</td>\n",
       "      <td>20</td>\n",
       "    </tr>\n",
       "    <tr>\n",
       "      <th>...</th>\n",
       "      <td>...</td>\n",
       "      <td>...</td>\n",
       "    </tr>\n",
       "    <tr>\n",
       "      <th>7561003</th>\n",
       "      <td>fffffa62-02a8-4500-9862-82128d8521b1</td>\n",
       "      <td>3423</td>\n",
       "    </tr>\n",
       "    <tr>\n",
       "      <th>7561004</th>\n",
       "      <td>fffffb0b-32bc-4f5c-a910-430c0fe9e5c9</td>\n",
       "      <td>2146</td>\n",
       "    </tr>\n",
       "    <tr>\n",
       "      <th>7561005</th>\n",
       "      <td>fffffde2-df64-4b69-bd29-945eb883de0c</td>\n",
       "      <td>82</td>\n",
       "    </tr>\n",
       "    <tr>\n",
       "      <th>7561006</th>\n",
       "      <td>fffffded-e124-4080-b929-4c51e3b701d5</td>\n",
       "      <td>4960</td>\n",
       "    </tr>\n",
       "    <tr>\n",
       "      <th>7561007</th>\n",
       "      <td>fffffe24-0ce7-46a3-8d15-da76294b9ae3</td>\n",
       "      <td>32</td>\n",
       "    </tr>\n",
       "  </tbody>\n",
       "</table>\n",
       "<p>7561008 rows × 2 columns</p>\n",
       "</div>"
      ],
      "text/plain": [
       "                                      user_id  watchtime\n",
       "0        0000020c-f22d-428f-a780-14cb34612649        192\n",
       "1        000002ca-30be-4bfd-8979-23d80fa5b924         31\n",
       "2        000003e8-2dee-49be-8c41-9082ce7a3af3        817\n",
       "3        0000062a-9401-4d9d-b2ca-4a54d18c5158        161\n",
       "4        00000823-4e57-4699-925f-082efd9fc694         20\n",
       "...                                       ...        ...\n",
       "7561003  fffffa62-02a8-4500-9862-82128d8521b1       3423\n",
       "7561004  fffffb0b-32bc-4f5c-a910-430c0fe9e5c9       2146\n",
       "7561005  fffffde2-df64-4b69-bd29-945eb883de0c         82\n",
       "7561006  fffffded-e124-4080-b929-4c51e3b701d5       4960\n",
       "7561007  fffffe24-0ce7-46a3-8d15-da76294b9ae3         32\n",
       "\n",
       "[7561008 rows x 2 columns]"
      ]
     },
     "execution_count": 6,
     "metadata": {},
     "output_type": "execute_result"
    }
   ],
   "source": [
    "watchtime_sum_by_user = logs.groupby('user_id')['watchtime'].sum().reset_index()\n",
    "watchtime_sum_by_user"
   ]
  },
  {
   "cell_type": "code",
   "execution_count": 7,
   "id": "0094615e-a7ff-49f6-8dc1-0ded98f08c6c",
   "metadata": {},
   "outputs": [
    {
     "data": {
      "text/html": [
       "<div>\n",
       "<style scoped>\n",
       "    .dataframe tbody tr th:only-of-type {\n",
       "        vertical-align: middle;\n",
       "    }\n",
       "\n",
       "    .dataframe tbody tr th {\n",
       "        vertical-align: top;\n",
       "    }\n",
       "\n",
       "    .dataframe thead th {\n",
       "        text-align: right;\n",
       "    }\n",
       "</style>\n",
       "<table border=\"1\" class=\"dataframe\">\n",
       "  <thead>\n",
       "    <tr style=\"text-align: right;\">\n",
       "      <th></th>\n",
       "      <th>watchtime</th>\n",
       "    </tr>\n",
       "    <tr>\n",
       "      <th>user_id</th>\n",
       "      <th></th>\n",
       "    </tr>\n",
       "  </thead>\n",
       "  <tbody>\n",
       "    <tr>\n",
       "      <th>0000020c-f22d-428f-a780-14cb34612649</th>\n",
       "      <td>192</td>\n",
       "    </tr>\n",
       "    <tr>\n",
       "      <th>000002ca-30be-4bfd-8979-23d80fa5b924</th>\n",
       "      <td>31</td>\n",
       "    </tr>\n",
       "    <tr>\n",
       "      <th>000003e8-2dee-49be-8c41-9082ce7a3af3</th>\n",
       "      <td>817</td>\n",
       "    </tr>\n",
       "    <tr>\n",
       "      <th>0000062a-9401-4d9d-b2ca-4a54d18c5158</th>\n",
       "      <td>161</td>\n",
       "    </tr>\n",
       "    <tr>\n",
       "      <th>00000823-4e57-4699-925f-082efd9fc694</th>\n",
       "      <td>20</td>\n",
       "    </tr>\n",
       "    <tr>\n",
       "      <th>...</th>\n",
       "      <td>...</td>\n",
       "    </tr>\n",
       "    <tr>\n",
       "      <th>fffffa62-02a8-4500-9862-82128d8521b1</th>\n",
       "      <td>3423</td>\n",
       "    </tr>\n",
       "    <tr>\n",
       "      <th>fffffb0b-32bc-4f5c-a910-430c0fe9e5c9</th>\n",
       "      <td>2146</td>\n",
       "    </tr>\n",
       "    <tr>\n",
       "      <th>fffffde2-df64-4b69-bd29-945eb883de0c</th>\n",
       "      <td>82</td>\n",
       "    </tr>\n",
       "    <tr>\n",
       "      <th>fffffded-e124-4080-b929-4c51e3b701d5</th>\n",
       "      <td>4960</td>\n",
       "    </tr>\n",
       "    <tr>\n",
       "      <th>fffffe24-0ce7-46a3-8d15-da76294b9ae3</th>\n",
       "      <td>32</td>\n",
       "    </tr>\n",
       "  </tbody>\n",
       "</table>\n",
       "<p>7561008 rows × 1 columns</p>\n",
       "</div>"
      ],
      "text/plain": [
       "                                      watchtime\n",
       "user_id                                        \n",
       "0000020c-f22d-428f-a780-14cb34612649        192\n",
       "000002ca-30be-4bfd-8979-23d80fa5b924         31\n",
       "000003e8-2dee-49be-8c41-9082ce7a3af3        817\n",
       "0000062a-9401-4d9d-b2ca-4a54d18c5158        161\n",
       "00000823-4e57-4699-925f-082efd9fc694         20\n",
       "...                                         ...\n",
       "fffffa62-02a8-4500-9862-82128d8521b1       3423\n",
       "fffffb0b-32bc-4f5c-a910-430c0fe9e5c9       2146\n",
       "fffffde2-df64-4b69-bd29-945eb883de0c         82\n",
       "fffffded-e124-4080-b929-4c51e3b701d5       4960\n",
       "fffffe24-0ce7-46a3-8d15-da76294b9ae3         32\n",
       "\n",
       "[7561008 rows x 1 columns]"
      ]
     },
     "execution_count": 7,
     "metadata": {},
     "output_type": "execute_result"
    }
   ],
   "source": [
    "watchtime_sum_by_user = watchtime_sum_by_user.set_index('user_id')\n",
    "watchtime_sum_by_user"
   ]
  },
  {
   "cell_type": "code",
   "execution_count": 12,
   "id": "4a956326-fe79-4c47-9a4b-bacdce369602",
   "metadata": {},
   "outputs": [
    {
     "data": {
      "text/html": [
       "<div>\n",
       "<style scoped>\n",
       "    .dataframe tbody tr th:only-of-type {\n",
       "        vertical-align: middle;\n",
       "    }\n",
       "\n",
       "    .dataframe tbody tr th {\n",
       "        vertical-align: top;\n",
       "    }\n",
       "\n",
       "    .dataframe thead th {\n",
       "        text-align: right;\n",
       "    }\n",
       "</style>\n",
       "<table border=\"1\" class=\"dataframe\">\n",
       "  <thead>\n",
       "    <tr style=\"text-align: right;\">\n",
       "      <th></th>\n",
       "      <th>watchtime</th>\n",
       "    </tr>\n",
       "    <tr>\n",
       "      <th>user_id</th>\n",
       "      <th></th>\n",
       "    </tr>\n",
       "  </thead>\n",
       "  <tbody>\n",
       "    <tr>\n",
       "      <th>00002552-5a5f-4c55-b71d-2ef6c6da45c1</th>\n",
       "      <td>0</td>\n",
       "    </tr>\n",
       "    <tr>\n",
       "      <th>00002f8c-70a8-4eb4-8746-2bac9e3e386b</th>\n",
       "      <td>0</td>\n",
       "    </tr>\n",
       "    <tr>\n",
       "      <th>00003a67-03ed-4f2e-b276-5bfc27158af9</th>\n",
       "      <td>0</td>\n",
       "    </tr>\n",
       "    <tr>\n",
       "      <th>0000458c-2ff4-49cf-909f-bf4ea5cfff57</th>\n",
       "      <td>2</td>\n",
       "    </tr>\n",
       "    <tr>\n",
       "      <th>00004d29-884d-4b73-b4a6-52d6bb0e40a9</th>\n",
       "      <td>1</td>\n",
       "    </tr>\n",
       "    <tr>\n",
       "      <th>...</th>\n",
       "      <td>...</td>\n",
       "    </tr>\n",
       "    <tr>\n",
       "      <th>ffffc354-4d70-4434-acb4-a6b2183b4577</th>\n",
       "      <td>1</td>\n",
       "    </tr>\n",
       "    <tr>\n",
       "      <th>ffffe85b-c767-4baa-91e7-ce3567159f6e</th>\n",
       "      <td>2</td>\n",
       "    </tr>\n",
       "    <tr>\n",
       "      <th>ffffed89-cce0-4332-8ba8-fe1b3cb3ea84</th>\n",
       "      <td>0</td>\n",
       "    </tr>\n",
       "    <tr>\n",
       "      <th>ffffeefa-08d9-46dd-a557-e66bbfed3364</th>\n",
       "      <td>2</td>\n",
       "    </tr>\n",
       "    <tr>\n",
       "      <th>ffffef3b-5002-4961-8b77-23a9150bba8e</th>\n",
       "      <td>1</td>\n",
       "    </tr>\n",
       "  </tbody>\n",
       "</table>\n",
       "<p>1335499 rows × 1 columns</p>\n",
       "</div>"
      ],
      "text/plain": [
       "                                      watchtime\n",
       "user_id                                        \n",
       "00002552-5a5f-4c55-b71d-2ef6c6da45c1          0\n",
       "00002f8c-70a8-4eb4-8746-2bac9e3e386b          0\n",
       "00003a67-03ed-4f2e-b276-5bfc27158af9          0\n",
       "0000458c-2ff4-49cf-909f-bf4ea5cfff57          2\n",
       "00004d29-884d-4b73-b4a6-52d6bb0e40a9          1\n",
       "...                                         ...\n",
       "ffffc354-4d70-4434-acb4-a6b2183b4577          1\n",
       "ffffe85b-c767-4baa-91e7-ce3567159f6e          2\n",
       "ffffed89-cce0-4332-8ba8-fe1b3cb3ea84          0\n",
       "ffffeefa-08d9-46dd-a557-e66bbfed3364          2\n",
       "ffffef3b-5002-4961-8b77-23a9150bba8e          1\n",
       "\n",
       "[1335499 rows x 1 columns]"
      ]
     },
     "execution_count": 12,
     "metadata": {},
     "output_type": "execute_result"
    }
   ],
   "source": [
    "users_to_drop = watchtime_sum_by_user.loc[(watchtime_sum_by_user.watchtime > 43200) | (watchtime_sum_by_user.watchtime <=2.5)]\n",
    "users_to_drop"
   ]
  },
  {
   "cell_type": "code",
   "execution_count": 13,
   "id": "504b1ae5-8974-46b1-80bc-ae0527d65816",
   "metadata": {},
   "outputs": [],
   "source": [
    "filtered_df = logs[~logs['user_id'].isin(users_to_drop)]"
   ]
  },
  {
   "cell_type": "code",
   "execution_count": 14,
   "id": "5416e730-1a27-46cf-b168-0338832c141e",
   "metadata": {},
   "outputs": [
    {
     "data": {
      "text/html": [
       "<div>\n",
       "<style scoped>\n",
       "    .dataframe tbody tr th:only-of-type {\n",
       "        vertical-align: middle;\n",
       "    }\n",
       "\n",
       "    .dataframe tbody tr th {\n",
       "        vertical-align: top;\n",
       "    }\n",
       "\n",
       "    .dataframe thead th {\n",
       "        text-align: right;\n",
       "    }\n",
       "</style>\n",
       "<table border=\"1\" class=\"dataframe\">\n",
       "  <thead>\n",
       "    <tr style=\"text-align: right;\">\n",
       "      <th></th>\n",
       "      <th>event_timestamp</th>\n",
       "      <th>user_id</th>\n",
       "      <th>region</th>\n",
       "      <th>city</th>\n",
       "      <th>video_id</th>\n",
       "      <th>watchtime</th>\n",
       "      <th>v_duration</th>\n",
       "      <th>is_long_watch</th>\n",
       "    </tr>\n",
       "  </thead>\n",
       "  <tbody>\n",
       "    <tr>\n",
       "      <th>0</th>\n",
       "      <td>2024-07-08 16:13:59+03:00</td>\n",
       "      <td>5ab7c3c3-2ba8-4d61-b81e-8722d1249a7c</td>\n",
       "      <td>d0a727cb-ac6b-4bf7-8449-73a5773ee817</td>\n",
       "      <td>daa223d9-5a07-4723-8b1c-e0660fb50036</td>\n",
       "      <td>6ba4b910-2b84-462e-92c7-477d29df3da0</td>\n",
       "      <td>1</td>\n",
       "      <td>45.212</td>\n",
       "      <td>-1</td>\n",
       "    </tr>\n",
       "    <tr>\n",
       "      <th>1</th>\n",
       "      <td>2024-07-08 06:29:48+03:00</td>\n",
       "      <td>ad8fdd37-b467-473a-8fd8-121013752abd</td>\n",
       "      <td>1252b9d0-d457-4967-b0a8-c3b3fc064630</td>\n",
       "      <td>d228cf4d-daae-4a4c-b9e0-aa64d8c54352</td>\n",
       "      <td>a766398d-ae80-4e6d-8da6-dc306903f8b0</td>\n",
       "      <td>673</td>\n",
       "      <td>2557.889</td>\n",
       "      <td>1</td>\n",
       "    </tr>\n",
       "    <tr>\n",
       "      <th>2</th>\n",
       "      <td>2024-07-08 19:58:10+03:00</td>\n",
       "      <td>dcfcfe10-dfd1-4d27-a72b-9c324d91224e</td>\n",
       "      <td>5e72a4fe-48c1-4b6c-9b85-078f490357dd</td>\n",
       "      <td>c8910e58-e5da-4ba9-bb99-1c8152ef2942</td>\n",
       "      <td>c36d9722-e24c-4cc1-b4e6-692eb134eb91</td>\n",
       "      <td>16</td>\n",
       "      <td>3906.115</td>\n",
       "      <td>-1</td>\n",
       "    </tr>\n",
       "    <tr>\n",
       "      <th>3</th>\n",
       "      <td>2024-07-08 10:09:43+03:00</td>\n",
       "      <td>0a169743-1bed-4ce8-80dd-c5b770b8737f</td>\n",
       "      <td>57ca7ea4-0a03-465d-9302-6ec6b350eefd</td>\n",
       "      <td>633d9f2d-7453-417d-8454-0ce9f935b693</td>\n",
       "      <td>ec9925eb-5d7d-4b7a-8646-aa68761adffd</td>\n",
       "      <td>2</td>\n",
       "      <td>75.543</td>\n",
       "      <td>-1</td>\n",
       "    </tr>\n",
       "    <tr>\n",
       "      <th>4</th>\n",
       "      <td>2024-07-08 19:15:16+03:00</td>\n",
       "      <td>08ff79ea-afa2-4562-b808-380f291239a1</td>\n",
       "      <td>4496e8c2-fe04-4654-995c-4e39173f0a77</td>\n",
       "      <td>62453693-e6de-4ff7-a06c-1ba765266f35</td>\n",
       "      <td>9d000f21-5760-481c-9b66-552dd28551a6</td>\n",
       "      <td>5749</td>\n",
       "      <td>5769.151</td>\n",
       "      <td>1</td>\n",
       "    </tr>\n",
       "    <tr>\n",
       "      <th>...</th>\n",
       "      <td>...</td>\n",
       "      <td>...</td>\n",
       "      <td>...</td>\n",
       "      <td>...</td>\n",
       "      <td>...</td>\n",
       "      <td>...</td>\n",
       "      <td>...</td>\n",
       "      <td>...</td>\n",
       "    </tr>\n",
       "    <tr>\n",
       "      <th>17224931</th>\n",
       "      <td>2024-07-08 15:21:52+03:00</td>\n",
       "      <td>d25fbd66-09ed-49d4-b19e-7662918b5670</td>\n",
       "      <td>8a159dca-6240-4954-b39b-58734dc8d8c1</td>\n",
       "      <td>feeacfe9-3207-41b5-bed8-223ec946ef25</td>\n",
       "      <td>c46484ef-72fb-4d63-9e48-2c73d2f449cc</td>\n",
       "      <td>1254</td>\n",
       "      <td>5313.667</td>\n",
       "      <td>-1</td>\n",
       "    </tr>\n",
       "    <tr>\n",
       "      <th>17224932</th>\n",
       "      <td>2024-07-08 08:59:33+03:00</td>\n",
       "      <td>6670e439-476f-49bd-b1f7-3b6aca0d088c</td>\n",
       "      <td>7ef5cdcf-c69e-4124-a17b-a4db22143663</td>\n",
       "      <td>c37340ba-8fc7-4999-940b-8e4f3883182d</td>\n",
       "      <td>110a905d-00de-4fbe-b708-0e436fc82e77</td>\n",
       "      <td>21</td>\n",
       "      <td>21.293</td>\n",
       "      <td>1</td>\n",
       "    </tr>\n",
       "    <tr>\n",
       "      <th>17224933</th>\n",
       "      <td>2024-07-08 21:30:01+03:00</td>\n",
       "      <td>0b880ff1-f439-4945-aa8f-25939e4bc47c</td>\n",
       "      <td>f5925ad5-7bc3-4c10-b14b-807f0cdd8c4e</td>\n",
       "      <td>9d91a98f-7a35-48eb-987d-49a7fc43aec4</td>\n",
       "      <td>1492b0d6-62fd-4ee2-b79b-37025dad2946</td>\n",
       "      <td>0</td>\n",
       "      <td>1295.296</td>\n",
       "      <td>-1</td>\n",
       "    </tr>\n",
       "    <tr>\n",
       "      <th>17224934</th>\n",
       "      <td>2024-07-08 14:31:50+03:00</td>\n",
       "      <td>efb83425-1a64-42af-9e1b-d3dccee91f41</td>\n",
       "      <td>c3286c6b-68dc-4c41-ad08-5583a5e6b23b</td>\n",
       "      <td>3490d142-7ec4-45dd-9293-3bb07213b3bd</td>\n",
       "      <td>8e02799b-9129-4134-a263-7a81bfcb9b38</td>\n",
       "      <td>8990</td>\n",
       "      <td>9355.009</td>\n",
       "      <td>1</td>\n",
       "    </tr>\n",
       "    <tr>\n",
       "      <th>17224935</th>\n",
       "      <td>2024-07-08 01:51:01+03:00</td>\n",
       "      <td>98bbd27e-2120-4f21-866f-3792575e7f1c</td>\n",
       "      <td>2c52a2a1-0ad9-416b-8f31-9ef8207b35d9</td>\n",
       "      <td>f6140536-2810-4d8d-9389-8ba1d9dd4cdb</td>\n",
       "      <td>e191930e-dd00-4bfc-b172-da8e4ab553d8</td>\n",
       "      <td>2662</td>\n",
       "      <td>2812.169</td>\n",
       "      <td>1</td>\n",
       "    </tr>\n",
       "  </tbody>\n",
       "</table>\n",
       "<p>17224936 rows × 8 columns</p>\n",
       "</div>"
      ],
      "text/plain": [
       "                   event_timestamp                               user_id  \\\n",
       "0        2024-07-08 16:13:59+03:00  5ab7c3c3-2ba8-4d61-b81e-8722d1249a7c   \n",
       "1        2024-07-08 06:29:48+03:00  ad8fdd37-b467-473a-8fd8-121013752abd   \n",
       "2        2024-07-08 19:58:10+03:00  dcfcfe10-dfd1-4d27-a72b-9c324d91224e   \n",
       "3        2024-07-08 10:09:43+03:00  0a169743-1bed-4ce8-80dd-c5b770b8737f   \n",
       "4        2024-07-08 19:15:16+03:00  08ff79ea-afa2-4562-b808-380f291239a1   \n",
       "...                            ...                                   ...   \n",
       "17224931 2024-07-08 15:21:52+03:00  d25fbd66-09ed-49d4-b19e-7662918b5670   \n",
       "17224932 2024-07-08 08:59:33+03:00  6670e439-476f-49bd-b1f7-3b6aca0d088c   \n",
       "17224933 2024-07-08 21:30:01+03:00  0b880ff1-f439-4945-aa8f-25939e4bc47c   \n",
       "17224934 2024-07-08 14:31:50+03:00  efb83425-1a64-42af-9e1b-d3dccee91f41   \n",
       "17224935 2024-07-08 01:51:01+03:00  98bbd27e-2120-4f21-866f-3792575e7f1c   \n",
       "\n",
       "                                        region  \\\n",
       "0         d0a727cb-ac6b-4bf7-8449-73a5773ee817   \n",
       "1         1252b9d0-d457-4967-b0a8-c3b3fc064630   \n",
       "2         5e72a4fe-48c1-4b6c-9b85-078f490357dd   \n",
       "3         57ca7ea4-0a03-465d-9302-6ec6b350eefd   \n",
       "4         4496e8c2-fe04-4654-995c-4e39173f0a77   \n",
       "...                                        ...   \n",
       "17224931  8a159dca-6240-4954-b39b-58734dc8d8c1   \n",
       "17224932  7ef5cdcf-c69e-4124-a17b-a4db22143663   \n",
       "17224933  f5925ad5-7bc3-4c10-b14b-807f0cdd8c4e   \n",
       "17224934  c3286c6b-68dc-4c41-ad08-5583a5e6b23b   \n",
       "17224935  2c52a2a1-0ad9-416b-8f31-9ef8207b35d9   \n",
       "\n",
       "                                          city  \\\n",
       "0         daa223d9-5a07-4723-8b1c-e0660fb50036   \n",
       "1         d228cf4d-daae-4a4c-b9e0-aa64d8c54352   \n",
       "2         c8910e58-e5da-4ba9-bb99-1c8152ef2942   \n",
       "3         633d9f2d-7453-417d-8454-0ce9f935b693   \n",
       "4         62453693-e6de-4ff7-a06c-1ba765266f35   \n",
       "...                                        ...   \n",
       "17224931  feeacfe9-3207-41b5-bed8-223ec946ef25   \n",
       "17224932  c37340ba-8fc7-4999-940b-8e4f3883182d   \n",
       "17224933  9d91a98f-7a35-48eb-987d-49a7fc43aec4   \n",
       "17224934  3490d142-7ec4-45dd-9293-3bb07213b3bd   \n",
       "17224935  f6140536-2810-4d8d-9389-8ba1d9dd4cdb   \n",
       "\n",
       "                                      video_id  watchtime  v_duration  \\\n",
       "0         6ba4b910-2b84-462e-92c7-477d29df3da0          1      45.212   \n",
       "1         a766398d-ae80-4e6d-8da6-dc306903f8b0        673    2557.889   \n",
       "2         c36d9722-e24c-4cc1-b4e6-692eb134eb91         16    3906.115   \n",
       "3         ec9925eb-5d7d-4b7a-8646-aa68761adffd          2      75.543   \n",
       "4         9d000f21-5760-481c-9b66-552dd28551a6       5749    5769.151   \n",
       "...                                        ...        ...         ...   \n",
       "17224931  c46484ef-72fb-4d63-9e48-2c73d2f449cc       1254    5313.667   \n",
       "17224932  110a905d-00de-4fbe-b708-0e436fc82e77         21      21.293   \n",
       "17224933  1492b0d6-62fd-4ee2-b79b-37025dad2946          0    1295.296   \n",
       "17224934  8e02799b-9129-4134-a263-7a81bfcb9b38       8990    9355.009   \n",
       "17224935  e191930e-dd00-4bfc-b172-da8e4ab553d8       2662    2812.169   \n",
       "\n",
       "          is_long_watch  \n",
       "0                    -1  \n",
       "1                     1  \n",
       "2                    -1  \n",
       "3                    -1  \n",
       "4                     1  \n",
       "...                 ...  \n",
       "17224931             -1  \n",
       "17224932              1  \n",
       "17224933             -1  \n",
       "17224934              1  \n",
       "17224935              1  \n",
       "\n",
       "[17224936 rows x 8 columns]"
      ]
     },
     "execution_count": 14,
     "metadata": {},
     "output_type": "execute_result"
    }
   ],
   "source": [
    "filtered_df"
   ]
  },
  {
   "cell_type": "code",
   "execution_count": 15,
   "id": "67d4e769-6948-43c0-9171-c9ffcf0d4902",
   "metadata": {},
   "outputs": [],
   "source": [
    "logs = filtered_df.iloc[filtered_df.groupby(by=['user_id', 'video_id'])['watchtime'].idxmax()]"
   ]
  },
  {
   "cell_type": "code",
   "execution_count": 16,
   "id": "71ae9119-594a-44ab-b7d8-3fe074e55541",
   "metadata": {},
   "outputs": [],
   "source": [
    "logs = logs.drop(columns=[i for i in logs.columns if i not in ['user_id', 'video_id', 'is_long_watch']])"
   ]
  },
  {
   "cell_type": "code",
   "execution_count": 17,
   "id": "183d85ad-0200-4bb3-92ba-1627f815654b",
   "metadata": {},
   "outputs": [
    {
     "data": {
      "text/plain": [
       "7532552"
      ]
     },
     "execution_count": 17,
     "metadata": {},
     "output_type": "execute_result"
    }
   ],
   "source": [
    "len(logs['user_id'].unique())"
   ]
  },
  {
   "cell_type": "code",
   "execution_count": 18,
   "id": "c41d3fa3-f70b-4bbc-adf7-c3ac55d6e7b7",
   "metadata": {},
   "outputs": [
    {
     "data": {
      "text/plain": [
       "624143"
      ]
     },
     "execution_count": 18,
     "metadata": {},
     "output_type": "execute_result"
    }
   ],
   "source": [
    "len(logs['video_id'].unique())"
   ]
  },
  {
   "cell_type": "code",
   "execution_count": 19,
   "id": "b5cfa40c-b17b-4ada-a06d-a3fb9d19f0d1",
   "metadata": {},
   "outputs": [],
   "source": [
    "user_counts = logs['user_id'].value_counts()"
   ]
  },
  {
   "cell_type": "code",
   "execution_count": 20,
   "id": "b42544c0-1e41-4b9d-8370-4237bce5ea9d",
   "metadata": {},
   "outputs": [],
   "source": [
    "filtered_users = user_counts[(user_counts >= 15) & (user_counts <= 70)]"
   ]
  },
  {
   "cell_type": "code",
   "execution_count": 21,
   "id": "2f52ed83-914b-4981-b1b9-9fde06c5c9e5",
   "metadata": {},
   "outputs": [],
   "source": [
    "filtered_users_sorted = filtered_users.sort_values(ascending=False)"
   ]
  },
  {
   "cell_type": "code",
   "execution_count": 22,
   "id": "45db2bde-1779-4625-b86d-db054e021ccf",
   "metadata": {},
   "outputs": [
    {
     "data": {
      "text/plain": [
       "53072"
      ]
     },
     "execution_count": 22,
     "metadata": {},
     "output_type": "execute_result"
    }
   ],
   "source": [
    "len(filtered_users_sorted)"
   ]
  },
  {
   "cell_type": "code",
   "execution_count": 23,
   "id": "6d01d3c1-5950-4d90-858b-9bc8326dd160",
   "metadata": {},
   "outputs": [
    {
     "data": {
      "text/plain": [
       "user_id\n",
       "75ac4d2f-7d01-4d14-b971-60f5ca97104e    70\n",
       "9ff10b88-1d38-4834-b0c8-f92a8db51616    70\n",
       "18aa2e27-f08a-4ee6-93ea-8f0312ff8589    70\n",
       "2a91d19e-beaa-4968-bea9-c99b17ff1b53    70\n",
       "930717c0-ffe3-491d-9e16-6d8e1e291af3    70\n",
       "                                        ..\n",
       "02bc706d-9b1b-49fe-aeaa-89fc109074d3    15\n",
       "9b891605-506a-4687-9275-4071c604f847    15\n",
       "0826bf15-425a-4b3a-b2b4-beeac443eec6    15\n",
       "6d9b61f2-0903-47bb-b435-992d5c7b1193    15\n",
       "0b189566-835e-4c96-8985-d21be48637a3    15\n",
       "Name: count, Length: 53072, dtype: int64"
      ]
     },
     "execution_count": 23,
     "metadata": {},
     "output_type": "execute_result"
    }
   ],
   "source": [
    "filtered_users_sorted"
   ]
  },
  {
   "cell_type": "code",
   "execution_count": 24,
   "id": "064c6281-04b1-4e84-bd01-1d1e66f4cf76",
   "metadata": {},
   "outputs": [],
   "source": [
    "logs_tmp = logs[logs['user_id'].isin(filtered_users_sorted.index.values)]"
   ]
  },
  {
   "cell_type": "code",
   "execution_count": 25,
   "id": "15c29f8d-18af-4312-b7bc-5bc18cb5b04d",
   "metadata": {},
   "outputs": [
    {
     "data": {
      "text/plain": [
       "1203238"
      ]
     },
     "execution_count": 25,
     "metadata": {},
     "output_type": "execute_result"
    }
   ],
   "source": [
    "len(logs_tmp)"
   ]
  },
  {
   "cell_type": "code",
   "execution_count": 26,
   "id": "c53b77fb-9e99-4f3c-a592-0614ddd439ad",
   "metadata": {},
   "outputs": [],
   "source": [
    "logs_tmp = logs_tmp.iloc[sample(range(0, len(logs_tmp)), 50000)]\n",
    "matrix = logs_tmp.pivot(index='user_id', columns='video_id', values='is_long_watch').fillna(0)"
   ]
  },
  {
   "cell_type": "code",
   "execution_count": 27,
   "id": "f0c766f2-bd1f-4e68-b3b1-868c8bc071bc",
   "metadata": {},
   "outputs": [
    {
     "name": "stdout",
     "output_type": "stream",
     "text": [
      "Defaulting to user installation because normal site-packages is not writeable\n",
      "Requirement already satisfied: implicit in /home/user1/.local/lib/python3.10/site-packages (0.7.2)\n",
      "Requirement already satisfied: tqdm>=4.27 in /usr/local/lib/python3.10/dist-packages (from implicit) (4.66.5)\n",
      "Requirement already satisfied: numpy>=1.17.0 in /usr/local/lib/python3.10/dist-packages (from implicit) (2.1.1)\n",
      "Requirement already satisfied: threadpoolctl in /usr/local/lib/python3.10/dist-packages (from implicit) (3.5.0)\n",
      "Requirement already satisfied: scipy>=0.16 in /usr/local/lib/python3.10/dist-packages (from implicit) (1.14.1)\n",
      "Note: you may need to restart the kernel to use updated packages.\n"
     ]
    }
   ],
   "source": [
    "pip install implicit"
   ]
  },
  {
   "cell_type": "code",
   "execution_count": 28,
   "id": "4657efb5-e695-4e2b-ac26-b3bc7d48a22a",
   "metadata": {},
   "outputs": [],
   "source": [
    "from scipy.sparse import csr_matrix, coo_matrix\n",
    "from implicit.als import AlternatingLeastSquares"
   ]
  },
  {
   "cell_type": "code",
   "execution_count": 29,
   "id": "55b18d70-8fa1-4f97-a1a3-9eafcc1e3ae2",
   "metadata": {},
   "outputs": [
    {
     "data": {
      "text/plain": [
       "(31661, 29221)"
      ]
     },
     "execution_count": 29,
     "metadata": {},
     "output_type": "execute_result"
    }
   ],
   "source": [
    "matrix.shape"
   ]
  },
  {
   "cell_type": "code",
   "execution_count": 30,
   "id": "f56bf5c8-ccdf-464a-b0b1-ee44541b96a7",
   "metadata": {},
   "outputs": [],
   "source": [
    "logs_filtered = logs_tmp#[logs_tmp['is_long_watch'] == 1]"
   ]
  },
  {
   "cell_type": "code",
   "execution_count": 31,
   "id": "c88cd046-1f3c-4ca3-9590-620496697811",
   "metadata": {},
   "outputs": [],
   "source": [
    "user_id_map = {uid: idx for idx, uid in enumerate(logs_filtered['user_id'].unique())}\n",
    "video_id_map = {vid: idx for idx, vid in enumerate(logs_filtered['video_id'].unique())}"
   ]
  },
  {
   "cell_type": "code",
   "execution_count": 32,
   "id": "1f627c99-ff13-4b8f-80bb-87ffe719dc6e",
   "metadata": {},
   "outputs": [],
   "source": [
    "logs_filtered['user_idx'] = logs_filtered['user_id'].map(user_id_map)\n",
    "logs_filtered['video_idx'] = logs_filtered['video_id'].map(video_id_map)"
   ]
  },
  {
   "cell_type": "code",
   "execution_count": 33,
   "id": "6851eb74-be84-4e8f-83ee-8c598643d5d9",
   "metadata": {},
   "outputs": [],
   "source": [
    "user_item_matrix = coo_matrix((np.ones(logs_filtered.shape[0]),\n",
    "                               (logs_filtered['user_idx'], logs_filtered['video_idx'])))"
   ]
  },
  {
   "cell_type": "code",
   "execution_count": 34,
   "id": "e27331cd-8802-46cd-ad9f-391c3ee82117",
   "metadata": {},
   "outputs": [],
   "source": [
    "user_item_matrix_csr = csr_matrix(user_item_matrix)"
   ]
  },
  {
   "cell_type": "code",
   "execution_count": 35,
   "id": "62a154ab-dc08-4466-b456-2b17fa62e66e",
   "metadata": {},
   "outputs": [
    {
     "data": {
      "text/plain": [
       "<Compressed Sparse Row sparse matrix of dtype 'float64'\n",
       "\twith 50000 stored elements and shape (31661, 29221)>"
      ]
     },
     "execution_count": 35,
     "metadata": {},
     "output_type": "execute_result"
    }
   ],
   "source": [
    "user_item_matrix_csr"
   ]
  },
  {
   "cell_type": "code",
   "execution_count": 36,
   "id": "6cfa1a56-9fdc-4a89-9a59-c4584845eb2c",
   "metadata": {},
   "outputs": [
    {
     "name": "stderr",
     "output_type": "stream",
     "text": [
      "/home/user1/.local/lib/python3.10/site-packages/implicit/cpu/als.py:95: RuntimeWarning: OpenBLAS is configured to use 4 threads. It is highly recommended to disable its internal threadpool by setting the environment variable 'OPENBLAS_NUM_THREADS=1' or by calling 'threadpoolctl.threadpool_limits(1, \"blas\")'. Having OpenBLAS use a threadpool can lead to severe performance issues here.\n",
      "  check_blas_config()\n",
      "/home/user1/.local/lib/python3.10/site-packages/implicit/utils.py:164: ParameterWarning: Method expects CSR input, and was passed coo_matrix instead. Converting to CSR took 0.0014538764953613281 seconds\n",
      "  warnings.warn(\n"
     ]
    },
    {
     "data": {
      "application/vnd.jupyter.widget-view+json": {
       "model_id": "a5323821988e4d24af2feb29cca60453",
       "version_major": 2,
       "version_minor": 0
      },
      "text/plain": [
       "  0%|          | 0/50 [00:00<?, ?it/s]"
      ]
     },
     "metadata": {},
     "output_type": "display_data"
    }
   ],
   "source": [
    "model = AlternatingLeastSquares(factors=128, regularization=0.1, iterations=50)\n",
    "model.fit(user_item_matrix)"
   ]
  },
  {
   "cell_type": "code",
   "execution_count": 37,
   "id": "075abac9-2965-4744-8e45-96b019b86028",
   "metadata": {},
   "outputs": [
    {
     "name": "stdout",
     "output_type": "stream",
     "text": [
      "Recommendations for user 604d6eb3-9a40-437d-bb38-41448035177d:\n",
      "Video ID: 8ba23158-7e25-43e7-9293-2c4870521b98, Score: 0.052347250282764435\n",
      "Video ID: ea3dfc8b-6dd4-4071-b150-ad54ed030faa, Score: 0.0027495636604726315\n",
      "Video ID: f8cdd1a4-7a10-42bd-a1a3-c7cb3b82dcf5, Score: 0.002490133047103882\n",
      "Video ID: 8c7a751b-1d95-469c-bfb9-34fe4ead007f, Score: 0.0024827145971357822\n",
      "Video ID: 9b0b5e73-9f61-4fa0-950c-b3a9834f5d96, Score: 0.0024821264669299126\n",
      "Video ID: 39a9d5ae-fbc6-4403-ae2e-ccde127db4ec, Score: 0.002376285847276449\n",
      "Video ID: 0880bb8a-fac6-4016-8d06-cf9013baa4f7, Score: 0.0023643583990633488\n",
      "Video ID: a8446e21-fb34-44c0-9db3-5b858d8645f3, Score: 0.002359268721193075\n",
      "Video ID: b107c1fd-a413-47d8-9a8e-c07b521d3079, Score: 0.002359268721193075\n",
      "Video ID: d51db9be-1e1f-4fde-9e9b-2a904d9414cd, Score: 0.0023530905600637197\n"
     ]
    }
   ],
   "source": [
    "user_ids = logs_filtered['user_id'].unique()\n",
    "user_id = user_ids[0]\n",
    "user_idx = user_id_map[user_id]\n",
    "recommended = model.recommend(user_idx, user_item_matrix_csr[user_idx], N=10, filter_already_liked_items=False)\n",
    "\n",
    "print(f\"Recommendations for user {user_id}:\")\n",
    "for video_idx, score in zip(recommended[0], recommended[1]):\n",
    "    video_id = list(video_id_map.keys())[list(video_id_map.values()).index(video_idx)]\n",
    "    print(f\"Video ID: {video_id}, Score: {score}\")"
   ]
  },
  {
   "cell_type": "code",
   "execution_count": null,
   "id": "a413cec7-6096-4c0f-a148-8b98d3d1430d",
   "metadata": {},
   "outputs": [],
   "source": []
  }
 ],
 "metadata": {
  "kernelspec": {
   "display_name": "Python 3 (ipykernel)",
   "language": "python",
   "name": "python3"
  },
  "language_info": {
   "codemirror_mode": {
    "name": "ipython",
    "version": 3
   },
   "file_extension": ".py",
   "mimetype": "text/x-python",
   "name": "python",
   "nbconvert_exporter": "python",
   "pygments_lexer": "ipython3",
   "version": "3.10.12"
  }
 },
 "nbformat": 4,
 "nbformat_minor": 5
}
